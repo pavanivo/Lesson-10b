{
 "cells": [
  {
   "cell_type": "markdown",
   "metadata": {
    "slideshow": {
     "slide_type": "slide"
    }
   },
   "source": [
    "<img src=\"http://imgur.com/1ZcRyrc.png\" style=\"float: left; margin: 20px; height: 55px\">\n",
    "\n",
    "# Train Test Split\n",
    "_Author: Kevin Coyle_"
   ]
  },
  {
   "cell_type": "markdown",
   "metadata": {
    "slideshow": {
     "slide_type": "slide"
    }
   },
   "source": [
    "### LEARNING OBJECTIVES\n",
    "*After this lesson, you will be able to:*\n",
    "- Describe what train test datasets are.\n",
    "- Explain the motivation behind creating a \"testing\" set for training our models\n",
    "- Create train test splits, using SK Learn"
   ]
  },
  {
   "cell_type": "markdown",
   "metadata": {
    "slideshow": {
     "slide_type": "slide"
    }
   },
   "source": [
    "## Why Split?"
   ]
  },
  {
   "cell_type": "markdown",
   "metadata": {
    "slideshow": {
     "slide_type": "subslide"
    }
   },
   "source": [
    "Splitting things is not something most people like to do. Most people want to connect! "
   ]
  },
  {
   "cell_type": "markdown",
   "metadata": {
    "slideshow": {
     "slide_type": "subslide"
    }
   },
   "source": [
    "SQL has language that does `joins`, SQL doesn't have language that does `break up then ghost some data`."
   ]
  },
  {
   "cell_type": "markdown",
   "metadata": {
    "slideshow": {
     "slide_type": "subslide"
    }
   },
   "source": [
    "Getting invited to that kid's birthday party in 2nd grade is awesome. He had an arcade game IN HIS HOUSE.\n",
    "\n",
    "Not getting invited to that other kid's party in 3rd grade was a bummer. I thought we all connected so well!"
   ]
  },
  {
   "cell_type": "markdown",
   "metadata": {
    "slideshow": {
     "slide_type": "subslide"
    }
   },
   "source": [
    "Connecting and joining things seems to be natural in our everyday lives and in our data lives."
   ]
  },
  {
   "cell_type": "markdown",
   "metadata": {
    "slideshow": {
     "slide_type": "subslide"
    }
   },
   "source": [
    "Why would we want to split our data then? Is this the cold, rational side of science?\n",
    "\n",
    "No!"
   ]
  },
  {
   "cell_type": "markdown",
   "metadata": {
    "slideshow": {
     "slide_type": "subslide"
    }
   },
   "source": [
    "Recall that a major goal of creating a model is for the model to _generalize_ well to unseen data."
   ]
  },
  {
   "cell_type": "markdown",
   "metadata": {
    "slideshow": {
     "slide_type": "subslide"
    }
   },
   "source": [
    "However, we do not have unseen data. We just have data from the past. How would we emulate this idea of \"data my model hasn't seen\" if we only have past, historical data?"
   ]
  },
  {
   "cell_type": "markdown",
   "metadata": {
    "slideshow": {
     "slide_type": "subslide"
    }
   },
   "source": [
    "### Enter the split."
   ]
  },
  {
   "cell_type": "markdown",
   "metadata": {
    "slideshow": {
     "slide_type": "subslide"
    }
   },
   "source": [
    "Common convention is to use UPPERCASE for our X and lowercase of for our y.\n",
    "\n",
    "Train test split is no different."
   ]
  },
  {
   "cell_type": "markdown",
   "metadata": {
    "slideshow": {
     "slide_type": "subslide"
    }
   },
   "source": [
    "Here are the four variables you'll use for training + testing sets:"
   ]
  },
  {
   "cell_type": "code",
   "execution_count": 1,
   "metadata": {
    "slideshow": {
     "slide_type": "fragment"
    }
   },
   "outputs": [],
   "source": [
    "import numpy as np\n",
    "import pandas as pd\n",
    "\n",
    "from sklearn.model_selection import train_test_split"
   ]
  },
  {
   "cell_type": "code",
   "execution_count": 2,
   "metadata": {},
   "outputs": [
    {
     "data": {
      "text/html": [
       "<div>\n",
       "<style scoped>\n",
       "    .dataframe tbody tr th:only-of-type {\n",
       "        vertical-align: middle;\n",
       "    }\n",
       "\n",
       "    .dataframe tbody tr th {\n",
       "        vertical-align: top;\n",
       "    }\n",
       "\n",
       "    .dataframe thead th {\n",
       "        text-align: right;\n",
       "    }\n",
       "</style>\n",
       "<table border=\"1\" class=\"dataframe\">\n",
       "  <thead>\n",
       "    <tr style=\"text-align: right;\">\n",
       "      <th></th>\n",
       "      <th>A</th>\n",
       "      <th>B</th>\n",
       "      <th>C</th>\n",
       "    </tr>\n",
       "  </thead>\n",
       "  <tbody>\n",
       "    <tr>\n",
       "      <th>0</th>\n",
       "      <td>1</td>\n",
       "      <td>2</td>\n",
       "      <td>3</td>\n",
       "    </tr>\n",
       "    <tr>\n",
       "      <th>1</th>\n",
       "      <td>4</td>\n",
       "      <td>5</td>\n",
       "      <td>6</td>\n",
       "    </tr>\n",
       "    <tr>\n",
       "      <th>2</th>\n",
       "      <td>7</td>\n",
       "      <td>8</td>\n",
       "      <td>9</td>\n",
       "    </tr>\n",
       "    <tr>\n",
       "      <th>3</th>\n",
       "      <td>10</td>\n",
       "      <td>11</td>\n",
       "      <td>12</td>\n",
       "    </tr>\n",
       "    <tr>\n",
       "      <th>4</th>\n",
       "      <td>13</td>\n",
       "      <td>14</td>\n",
       "      <td>15</td>\n",
       "    </tr>\n",
       "    <tr>\n",
       "      <th>5</th>\n",
       "      <td>16</td>\n",
       "      <td>17</td>\n",
       "      <td>18</td>\n",
       "    </tr>\n",
       "    <tr>\n",
       "      <th>6</th>\n",
       "      <td>19</td>\n",
       "      <td>20</td>\n",
       "      <td>21</td>\n",
       "    </tr>\n",
       "    <tr>\n",
       "      <th>7</th>\n",
       "      <td>22</td>\n",
       "      <td>23</td>\n",
       "      <td>24</td>\n",
       "    </tr>\n",
       "    <tr>\n",
       "      <th>8</th>\n",
       "      <td>25</td>\n",
       "      <td>26</td>\n",
       "      <td>27</td>\n",
       "    </tr>\n",
       "    <tr>\n",
       "      <th>9</th>\n",
       "      <td>28</td>\n",
       "      <td>29</td>\n",
       "      <td>30</td>\n",
       "    </tr>\n",
       "  </tbody>\n",
       "</table>\n",
       "</div>"
      ],
      "text/plain": [
       "    A   B   C\n",
       "0   1   2   3\n",
       "1   4   5   6\n",
       "2   7   8   9\n",
       "3  10  11  12\n",
       "4  13  14  15\n",
       "5  16  17  18\n",
       "6  19  20  21\n",
       "7  22  23  24\n",
       "8  25  26  27\n",
       "9  28  29  30"
      ]
     },
     "execution_count": 2,
     "metadata": {},
     "output_type": "execute_result"
    }
   ],
   "source": [
    "data = [[1,2,3],\n",
    "       [4,5,6],\n",
    "       [7,8,9],\n",
    "       [10,11,12],\n",
    "       [13,14,15],\n",
    "       [16,17,18],\n",
    "       [19,20,21],\n",
    "       [22,23,24],\n",
    "       [25,26,27],\n",
    "       [28,29,30]]\n",
    "\n",
    "df = pd.DataFrame(data, columns={'A':'0', 'B':'1', 'C':'2'})\n",
    "df"
   ]
  },
  {
   "cell_type": "code",
   "execution_count": 3,
   "metadata": {},
   "outputs": [],
   "source": [
    "feature_cols = ['B', 'C']\n",
    "\n",
    "X = df[feature_cols]\n",
    "y = df.A"
   ]
  },
  {
   "cell_type": "code",
   "execution_count": 4,
   "metadata": {},
   "outputs": [],
   "source": [
    "# train_test_split\n",
    "X_train, X_test, y_train, y_test = train_test_split(X, y, test_size=0.3, random_state=42)"
   ]
  },
  {
   "cell_type": "markdown",
   "metadata": {
    "slideshow": {
     "slide_type": "subslide"
    }
   },
   "source": [
    "We can control how big we want our testing set (and consequently, our training set as well) to be, by changing the `test_size`. This takes in a float, which corresponds to a percentage of the total data."
   ]
  },
  {
   "cell_type": "markdown",
   "metadata": {
    "slideshow": {
     "slide_type": "subslide"
    }
   },
   "source": [
    "## Pop Quiz!!\n",
    "\n",
    "### Given the following number, how big (as a percentage) is our **testing set** (assuming we're setting this number to the test_size)? "
   ]
  },
  {
   "cell_type": "code",
   "execution_count": null,
   "metadata": {},
   "outputs": [],
   "source": [
    "# .3"
   ]
  },
  {
   "cell_type": "markdown",
   "metadata": {
    "slideshow": {
     "slide_type": "subslide"
    }
   },
   "source": [
    "### Given the following number, how big (as a percentage) is our **training set**  (assuming we're setting this number to the test_size)?"
   ]
  },
  {
   "cell_type": "code",
   "execution_count": null,
   "metadata": {},
   "outputs": [],
   "source": [
    "# .6"
   ]
  },
  {
   "cell_type": "markdown",
   "metadata": {
    "slideshow": {
     "slide_type": "subslide"
    }
   },
   "source": [
    "### Assume I have a dataset of 100 rows. If I set the`test_size` to the following amount, how many rows are in my **test** set?"
   ]
  },
  {
   "cell_type": "code",
   "execution_count": null,
   "metadata": {},
   "outputs": [],
   "source": []
  },
  {
   "cell_type": "markdown",
   "metadata": {
    "slideshow": {
     "slide_type": "subslide"
    }
   },
   "source": [
    "Great! Additionally, it's a good move to set a `random_state`.\n",
    "\n",
    "Which number you choose here is inconsequential. It has nothing to do with the number of rows in your dataset, it has nothing to do with any calculation. \n",
    "\n",
    "Most people choose 42 because 42 is the answer to everything."
   ]
  },
  {
   "cell_type": "markdown",
   "metadata": {
    "slideshow": {
     "slide_type": "subslide"
    }
   },
   "source": [
    "Random state ensures that each time you create you train and test sets, the same numbers are chosen!\n",
    "\n",
    "Let's pull all these together by reading in data and checking out the rows selected for the training set, even if we re-run the cell multiple times!"
   ]
  },
  {
   "cell_type": "markdown",
   "metadata": {
    "slideshow": {
     "slide_type": "subslide"
    }
   },
   "source": [
    "Import pandas + our NCAA data in the \"./data\" folder"
   ]
  },
  {
   "cell_type": "code",
   "execution_count": 5,
   "metadata": {
    "slideshow": {
     "slide_type": "fragment"
    }
   },
   "outputs": [],
   "source": [
    "ncaa_df = pd.read_csv('../data/ncaa.csv')"
   ]
  },
  {
   "cell_type": "code",
   "execution_count": 6,
   "metadata": {},
   "outputs": [
    {
     "data": {
      "text/html": [
       "<div>\n",
       "<style scoped>\n",
       "    .dataframe tbody tr th:only-of-type {\n",
       "        vertical-align: middle;\n",
       "    }\n",
       "\n",
       "    .dataframe tbody tr th {\n",
       "        vertical-align: top;\n",
       "    }\n",
       "\n",
       "    .dataframe thead th {\n",
       "        text-align: right;\n",
       "    }\n",
       "</style>\n",
       "<table border=\"1\" class=\"dataframe\">\n",
       "  <thead>\n",
       "    <tr style=\"text-align: right;\">\n",
       "      <th></th>\n",
       "      <th>AST</th>\n",
       "      <th>AST_Diff</th>\n",
       "      <th>BLK</th>\n",
       "      <th>BLK_Diff</th>\n",
       "      <th>Coach</th>\n",
       "      <th>DR</th>\n",
       "      <th>DR_Diff</th>\n",
       "      <th>FGP</th>\n",
       "      <th>FGP3</th>\n",
       "      <th>FGP3_Diff</th>\n",
       "      <th>...</th>\n",
       "      <th>PPG_Diff</th>\n",
       "      <th>Rank</th>\n",
       "      <th>Rank_Diff</th>\n",
       "      <th>Result</th>\n",
       "      <th>SEED_Diff</th>\n",
       "      <th>STL</th>\n",
       "      <th>STL_Diff</th>\n",
       "      <th>Season</th>\n",
       "      <th>Seed</th>\n",
       "      <th>TeamID</th>\n",
       "    </tr>\n",
       "  </thead>\n",
       "  <tbody>\n",
       "    <tr>\n",
       "      <th>0</th>\n",
       "      <td>14.000000</td>\n",
       "      <td>4.666667</td>\n",
       "      <td>4.176471</td>\n",
       "      <td>0.676471</td>\n",
       "      <td>mark_gottfried</td>\n",
       "      <td>26.411765</td>\n",
       "      <td>3.911765</td>\n",
       "      <td>0.444393</td>\n",
       "      <td>0.347418</td>\n",
       "      <td>0.040750</td>\n",
       "      <td>...</td>\n",
       "      <td>18.539216</td>\n",
       "      <td>3.0</td>\n",
       "      <td>35</td>\n",
       "      <td>1</td>\n",
       "      <td>9.0</td>\n",
       "      <td>7.235294</td>\n",
       "      <td>1.401961</td>\n",
       "      <td>2003</td>\n",
       "      <td>10.0</td>\n",
       "      <td>1104</td>\n",
       "    </tr>\n",
       "    <tr>\n",
       "      <th>1</th>\n",
       "      <td>15.380952</td>\n",
       "      <td>6.047619</td>\n",
       "      <td>4.095238</td>\n",
       "      <td>0.595238</td>\n",
       "      <td>rick_stansbury</td>\n",
       "      <td>26.380952</td>\n",
       "      <td>3.880952</td>\n",
       "      <td>0.495357</td>\n",
       "      <td>0.361980</td>\n",
       "      <td>0.055311</td>\n",
       "      <td>...</td>\n",
       "      <td>17.500000</td>\n",
       "      <td>3.0</td>\n",
       "      <td>21</td>\n",
       "      <td>1</td>\n",
       "      <td>4.0</td>\n",
       "      <td>9.285714</td>\n",
       "      <td>3.452381</td>\n",
       "      <td>2003</td>\n",
       "      <td>5.0</td>\n",
       "      <td>1280</td>\n",
       "    </tr>\n",
       "    <tr>\n",
       "      <th>2</th>\n",
       "      <td>13.400000</td>\n",
       "      <td>4.066667</td>\n",
       "      <td>5.750000</td>\n",
       "      <td>2.250000</td>\n",
       "      <td>eddie_sutton</td>\n",
       "      <td>24.500000</td>\n",
       "      <td>2.000000</td>\n",
       "      <td>0.474798</td>\n",
       "      <td>0.382793</td>\n",
       "      <td>0.076124</td>\n",
       "      <td>...</td>\n",
       "      <td>17.233333</td>\n",
       "      <td>3.0</td>\n",
       "      <td>19</td>\n",
       "      <td>1</td>\n",
       "      <td>5.0</td>\n",
       "      <td>9.650000</td>\n",
       "      <td>3.816667</td>\n",
       "      <td>2003</td>\n",
       "      <td>6.0</td>\n",
       "      <td>1329</td>\n",
       "    </tr>\n",
       "    <tr>\n",
       "      <th>3</th>\n",
       "      <td>14.590909</td>\n",
       "      <td>5.257576</td>\n",
       "      <td>3.818182</td>\n",
       "      <td>0.318182</td>\n",
       "      <td>rick_barnes</td>\n",
       "      <td>26.636364</td>\n",
       "      <td>4.136364</td>\n",
       "      <td>0.456127</td>\n",
       "      <td>0.343126</td>\n",
       "      <td>0.036458</td>\n",
       "      <td>...</td>\n",
       "      <td>22.060606</td>\n",
       "      <td>3.0</td>\n",
       "      <td>1</td>\n",
       "      <td>1</td>\n",
       "      <td>0.0</td>\n",
       "      <td>6.954545</td>\n",
       "      <td>1.121212</td>\n",
       "      <td>2003</td>\n",
       "      <td>1.0</td>\n",
       "      <td>1400</td>\n",
       "    </tr>\n",
       "    <tr>\n",
       "      <th>4</th>\n",
       "      <td>14.590909</td>\n",
       "      <td>5.257576</td>\n",
       "      <td>3.818182</td>\n",
       "      <td>0.318182</td>\n",
       "      <td>rick_barnes</td>\n",
       "      <td>26.636364</td>\n",
       "      <td>4.136364</td>\n",
       "      <td>0.456127</td>\n",
       "      <td>0.343126</td>\n",
       "      <td>0.036458</td>\n",
       "      <td>...</td>\n",
       "      <td>22.060606</td>\n",
       "      <td>3.0</td>\n",
       "      <td>1</td>\n",
       "      <td>1</td>\n",
       "      <td>0.0</td>\n",
       "      <td>6.954545</td>\n",
       "      <td>1.121212</td>\n",
       "      <td>2003</td>\n",
       "      <td>1.0</td>\n",
       "      <td>1400</td>\n",
       "    </tr>\n",
       "  </tbody>\n",
       "</table>\n",
       "<p>5 rows × 28 columns</p>\n",
       "</div>"
      ],
      "text/plain": [
       "         AST  AST_Diff       BLK  BLK_Diff           Coach         DR  \\\n",
       "0  14.000000  4.666667  4.176471  0.676471  mark_gottfried  26.411765   \n",
       "1  15.380952  6.047619  4.095238  0.595238  rick_stansbury  26.380952   \n",
       "2  13.400000  4.066667  5.750000  2.250000    eddie_sutton  24.500000   \n",
       "3  14.590909  5.257576  3.818182  0.318182     rick_barnes  26.636364   \n",
       "4  14.590909  5.257576  3.818182  0.318182     rick_barnes  26.636364   \n",
       "\n",
       "    DR_Diff       FGP      FGP3  FGP3_Diff  ...   PPG_Diff  Rank  Rank_Diff  \\\n",
       "0  3.911765  0.444393  0.347418   0.040750  ...  18.539216   3.0         35   \n",
       "1  3.880952  0.495357  0.361980   0.055311  ...  17.500000   3.0         21   \n",
       "2  2.000000  0.474798  0.382793   0.076124  ...  17.233333   3.0         19   \n",
       "3  4.136364  0.456127  0.343126   0.036458  ...  22.060606   3.0          1   \n",
       "4  4.136364  0.456127  0.343126   0.036458  ...  22.060606   3.0          1   \n",
       "\n",
       "  Result  SEED_Diff       STL  STL_Diff  Season  Seed  TeamID  \n",
       "0      1        9.0  7.235294  1.401961    2003  10.0    1104  \n",
       "1      1        4.0  9.285714  3.452381    2003   5.0    1280  \n",
       "2      1        5.0  9.650000  3.816667    2003   6.0    1329  \n",
       "3      1        0.0  6.954545  1.121212    2003   1.0    1400  \n",
       "4      1        0.0  6.954545  1.121212    2003   1.0    1400  \n",
       "\n",
       "[5 rows x 28 columns]"
      ]
     },
     "execution_count": 6,
     "metadata": {},
     "output_type": "execute_result"
    }
   ],
   "source": [
    "ncaa_df.head()"
   ]
  },
  {
   "cell_type": "markdown",
   "metadata": {
    "slideshow": {
     "slide_type": "subslide"
    }
   },
   "source": [
    "sk Learn has built this train_test_split functionality out for you. It lives in the sk Learn library, under the `model_selection` module. "
   ]
  },
  {
   "cell_type": "markdown",
   "metadata": {
    "slideshow": {
     "slide_type": "subslide"
    }
   },
   "source": [
    "import it now"
   ]
  },
  {
   "cell_type": "code",
   "execution_count": 7,
   "metadata": {
    "slideshow": {
     "slide_type": "fragment"
    }
   },
   "outputs": [],
   "source": [
    "from sklearn.model_selection import train_test_split"
   ]
  },
  {
   "cell_type": "markdown",
   "metadata": {
    "slideshow": {
     "slide_type": "subslide"
    }
   },
   "source": [
    "Okay! Create your X_train, X_test, y_train, and y_test now"
   ]
  },
  {
   "cell_type": "code",
   "execution_count": 8,
   "metadata": {},
   "outputs": [],
   "source": [
    "feature_cols = ['AST', 'FGP', 'DR']\n",
    "\n",
    "X = ncaa_df[feature_cols]\n",
    "y = ncaa_df.Rank"
   ]
  },
  {
   "cell_type": "code",
   "execution_count": 9,
   "metadata": {
    "slideshow": {
     "slide_type": "fragment"
    }
   },
   "outputs": [],
   "source": [
    "X_train, X_test, y_train, y_test = train_test_split(X, y, test_size=0.3, random_state=42)"
   ]
  },
  {
   "cell_type": "markdown",
   "metadata": {
    "slideshow": {
     "slide_type": "subslide"
    }
   },
   "source": [
    "Try that again, but this time, make your training set 25% of your total dataframe, and set your random_state to 123"
   ]
  },
  {
   "cell_type": "code",
   "execution_count": 10,
   "metadata": {
    "slideshow": {
     "slide_type": "fragment"
    }
   },
   "outputs": [],
   "source": [
    "X_train, X_test, y_train, y_test = train_test_split(X, y, test_size=0.3, random_state=123)"
   ]
  },
  {
   "cell_type": "markdown",
   "metadata": {
    "slideshow": {
     "slide_type": "slide"
    }
   },
   "source": [
    "# Great job! \n",
    "You've successfully created a training set and a testing set"
   ]
  }
 ],
 "metadata": {
  "kernelspec": {
   "display_name": "Python 3",
   "language": "python",
   "name": "python3"
  },
  "language_info": {
   "codemirror_mode": {
    "name": "ipython",
    "version": 3
   },
   "file_extension": ".py",
   "mimetype": "text/x-python",
   "name": "python",
   "nbconvert_exporter": "python",
   "pygments_lexer": "ipython3",
   "version": "3.7.3"
  }
 },
 "nbformat": 4,
 "nbformat_minor": 2
}
